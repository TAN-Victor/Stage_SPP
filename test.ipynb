{
 "cells": [
  {
   "cell_type": "code",
   "execution_count": 15,
   "metadata": {},
   "outputs": [
    {
     "name": "stdout",
     "output_type": "stream",
     "text": [
      "The Objective Value obtained when using a random vector x as weights is:  7.799329387939241\n"
     ]
    }
   ],
   "source": [
    "from training import *\n",
    "data = read_stock_file(\"Data/indtrack7.txt\")\n",
    "\n",
    "env_dict={\"data\": data, \"sigma\": 0.7, \"random_nn\": True, \"random_data\": True, \"cardinality_constraint\": 10, \"cardinality_constraint_mode\": \"renormalize\", \"lambda_regularization\": 0.0, \"shrinkage\": False}\n",
    "optim_val = 0\n",
    "for i in range(0, 1000):\n",
    "    random_w = random_weights(env_dict[\"cardinality_constraint\"], env_dict[\"data\"].shape[1], seed=i)\n",
    "    mu, sigma = get_mu_sigma(env_dict[\"data\"])\n",
    "    random_optimal_value = env_dict[\"sigma\"] * mu @ random_w - (1-env_dict[\"sigma\"]) * random_w @ sigma @ random_w\n",
    "    optim_val += random_optimal_value\n",
    "optim_val /= 1000\n",
    "print(\"The Objective Value obtained when using a random vector x as weights is: \", optim_val)"
   ]
  },
  {
   "cell_type": "code",
   "execution_count": 8,
   "metadata": {},
   "outputs": [
    {
     "name": "stdout",
     "output_type": "stream",
     "text": [
      "The Objective Value obtained when using a random vector x as weights is:  -10.191632679910887\n"
     ]
    }
   ],
   "source": [
    "random_w = random_weights(env_dict[\"cardinality_constraint\"], env_dict[\"data\"].shape[1], seed=i)\n",
    "mu, sigma = get_mu_sigma(env_dict[\"data\"])\n",
    "random_optimal_value = env_dict[\"sigma\"] * mu @ random_w - (1-env_dict[\"sigma\"]) * random_w @ sigma @ random_w\n",
    "print(\"The Objective Value obtained when using a random vector x as weights is: \", random_optimal_value)"
   ]
  }
 ],
 "metadata": {
  "kernelspec": {
   "display_name": "Python 3",
   "language": "python",
   "name": "python3"
  },
  "language_info": {
   "codemirror_mode": {
    "name": "ipython",
    "version": 3
   },
   "file_extension": ".py",
   "mimetype": "text/x-python",
   "name": "python",
   "nbconvert_exporter": "python",
   "pygments_lexer": "ipython3",
   "version": "3.10.6"
  }
 },
 "nbformat": 4,
 "nbformat_minor": 2
}
