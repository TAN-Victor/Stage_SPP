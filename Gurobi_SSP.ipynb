{
 "cells": [
  {
   "cell_type": "markdown",
   "metadata": {},
   "source": [
    "# Gurobi\n",
    "\n",
    "This file is for computing Gurobi's optimal solution. The results are saved in a sheet (.xlsx).\n",
    "\n",
    "Grid Search is possible with itertools.\n",
    "\n",
    "The formula and parameters used for Gurobi is in training.py file, within \"print_gurobi\" function. Now, it stores the new values in \"Sheets/Gurobi.xlsx\" with sheet named \"New\"."
   ]
  },
  {
   "cell_type": "markdown",
   "metadata": {},
   "source": [
    "# Imports"
   ]
  },
  {
   "cell_type": "code",
   "execution_count": 1,
   "metadata": {},
   "outputs": [],
   "source": [
    "import pandas as pd\n",
    "import numpy as np\n",
    "from training import *\n",
    "import itertools"
   ]
  },
  {
   "cell_type": "markdown",
   "metadata": {},
   "source": [
    "# Gurobi computation"
   ]
  },
  {
   "cell_type": "code",
   "execution_count": 2,
   "metadata": {},
   "outputs": [],
   "source": [
    "name_datasets = [\"indtrack7.txt\"]\n",
    "sigmas = [0.5]\n",
    "constraints = [10]"
   ]
  },
  {
   "cell_type": "code",
   "execution_count": 3,
   "metadata": {},
   "outputs": [
    {
     "name": "stderr",
     "output_type": "stream",
     "text": [
      "  0%|          | 0/1 [00:00<?, ?it/s]"
     ]
    },
    {
     "name": "stdout",
     "output_type": "stream",
     "text": [
      "Set parameter WLSAccessID\n",
      "Set parameter WLSSecret\n",
      "Set parameter LicenseID to value 2539734\n",
      "Academic license 2539734 - for non-commercial use only - registered to vi___@ensiie.eu\n"
     ]
    },
    {
     "name": "stderr",
     "output_type": "stream",
     "text": [
      "100%|██████████| 1/1 [00:05<00:00,  5.07s/it]\n"
     ]
    }
   ],
   "source": [
    "combinations = list(itertools.product(name_datasets, sigmas, constraints))\n",
    "\n",
    "for name_dataset, sigma, constraint in tqdm(combinations):\n",
    "    print_gurobi(read_stock_file(\"Data/\" + name_dataset), sigma, \"Sheets/Gurobi.xlsx\", constraint, name_dataset, print_results=False, verbose=False)"
   ]
  }
 ],
 "metadata": {
  "kernelspec": {
   "display_name": "Python 3",
   "language": "python",
   "name": "python3"
  },
  "language_info": {
   "codemirror_mode": {
    "name": "ipython",
    "version": 3
   },
   "file_extension": ".py",
   "mimetype": "text/x-python",
   "name": "python",
   "nbconvert_exporter": "python",
   "pygments_lexer": "ipython3",
   "version": "3.10.6"
  }
 },
 "nbformat": 4,
 "nbformat_minor": 2
}
